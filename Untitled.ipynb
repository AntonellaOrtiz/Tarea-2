{
 "cells": [
  {
   "cell_type": "code",
   "execution_count": 1,
   "id": "26f4e1b2-53cb-4763-b2ce-b9bddeb9bc25",
   "metadata": {},
   "outputs": [],
   "source": [
    "import re\n",
    "import csv"
   ]
  },
  {
   "cell_type": "code",
   "execution_count": 4,
   "id": "c2419afb-35ca-4d7d-ae6e-237f868ec0b9",
   "metadata": {},
   "outputs": [
    {
     "data": {
      "text/plain": [
       "1073688"
      ]
     },
     "execution_count": 4,
     "metadata": {},
     "output_type": "execute_result"
    }
   ],
   "source": [
    "with open('./pubmed-bacterialc-set.txt', encoding='utf-8') as f:\n",
    "    my_text = f.read()\n",
    "\n",
    "len(my_text)"
   ]
  },
  {
   "cell_type": "code",
   "execution_count": 5,
   "id": "a2565c17-58e1-489b-a414-f9d01e2a66f8",
   "metadata": {},
   "outputs": [
    {
     "name": "stdout",
     "output_type": "stream",
     "text": [
      "tations of commercialisation of  bacterial cellulose have been presented. This review is also an update on the  variety of low-cost substrates used for production of bacterial cellulose and its  nonmedical applications and includes patents and commercial products based on  bacterial cellulose.\n",
      "FAU - Rajwade, J M\n",
      "AU  - Rajwade JM\n",
      "AD  - Centre for Nanobioscience, Agharkar Research Institute, G. G. Agarkar Road, Pune,  411 004, India, jrajwade@aripune.org.\n",
      "FAU - Paknikar, K M\n",
      "AU  - Paknikar KM\n",
      "FAU - Kumbhar, J V\n",
      "AU  - Kumbhar JV\n",
      "LA  - eng\n",
      "PT  - Journal Article\n",
      "PT  - Review\n",
      "DEP - 20150211\n",
      "PL  - Germany\n",
      "TA  - Appl Microbiol Biotechnol\n",
      "JT  - Applied microbiology and biotechnology\n",
      "JID - 8406612\n",
      "RN  - 0 (Biocompatible Materials)\n",
      "RN  - 9004-34-6 (Cellulose)\n",
      "SB  - IM\n",
      "MH  - Biocompatible Materials/chemistry\n",
      "MH  - Biodegradation, Environmental\n",
      "MH  - Cellulose/*chemistry\n",
      "MH  - Drug Delivery Systems\n",
      "MH  - Fermentation\n",
      "MH  - Gluconacetobacter/*chemistry\n",
      "MH  - Nanocomposites/chemistry\n",
      "MH  - Prostheses\n"
     ]
    }
   ],
   "source": [
    "my_text=re.sub(r'\\n\\s{6}', ' ', my_text)\n",
    "print(my_text[1500:2500])"
   ]
  },
  {
   "cell_type": "code",
   "execution_count": 21,
   "id": "4f9cba97-77b2-4311-ae5d-2c2a42289585",
   "metadata": {},
   "outputs": [
    {
     "name": "stdout",
     "output_type": "stream",
     "text": [
      "hola\n"
     ]
    }
   ],
   "source": [
    "AD = open(\"./AD.txt\", \"r\")\n",
    "print(AD.read())\n",
    "AD.close()"
   ]
  }
 ],
 "metadata": {
  "kernelspec": {
   "display_name": "Python 3 (ipykernel)",
   "language": "python",
   "name": "python3"
  },
  "language_info": {
   "codemirror_mode": {
    "name": "ipython",
    "version": 3
   },
   "file_extension": ".py",
   "mimetype": "text/x-python",
   "name": "python",
   "nbconvert_exporter": "python",
   "pygments_lexer": "ipython3",
   "version": "3.9.7"
  }
 },
 "nbformat": 4,
 "nbformat_minor": 5
}
