{
 "cells": [
  {
   "cell_type": "markdown",
   "id": "4ada0eb0",
   "metadata": {},
   "source": [
    "# T5_Mapa de Ciencia\n",
    "Se busco bibliografía sobre \"Bactaerial cellulose bioremediation\" en la Página Web de PubMed"
   ]
  },
  {
   "cell_type": "code",
   "execution_count": 16,
   "id": "a40b45e6",
   "metadata": {},
   "outputs": [],
   "source": [
    "#Importando librerias re y csv\n",
    "import re\n",
    "import csv"
   ]
  },
  {
   "cell_type": "code",
   "execution_count": 17,
   "id": "f64f3757",
   "metadata": {},
   "outputs": [],
   "source": [
    "with open('./pubmed-bacterialc-set.txt', encoding='utf-8') as f:\n",
    "    my_text = f.read()"
   ]
  },
  {
   "cell_type": "code",
   "execution_count": 19,
   "id": "38e895ab",
   "metadata": {},
   "outputs": [
    {
     "data": {
      "text/plain": [
       "1073688"
      ]
     },
     "execution_count": 19,
     "metadata": {},
     "output_type": "execute_result"
    }
   ],
   "source": [
    "len(my_text)"
   ]
  },
  {
   "cell_type": "code",
   "execution_count": 20,
   "id": "6c125faa",
   "metadata": {
    "scrolled": true
   },
   "outputs": [
    {
     "name": "stdout",
     "output_type": "stream",
     "text": [
      "PMID- 25666681\n",
      "OWN - NLM\n",
      "STAT- MEDLINE\n",
      "DCOM- 20160201\n",
      "LR  - 20150228\n",
      "IS  - 1432-0614 (Electronic)\n",
      "IS  - 0175-7598 (Linking)\n",
      "VI  - 99\n",
      "IP  - 6\n",
      "DP  - 2015 Mar\n",
      "TI  - Applications of bacterial cellulose and its composites in biomedicine.\n",
      "PG  - 2491-511\n",
      "LID - 10.1007/s00253-015-6426-3 [doi]\n",
      "AB  - Bacterial cellulose produced by few but specific microbial genera is an extremely \n",
      "      pure natural exopolysaccharide. Besides providing adhesive properties and a \n",
      "      competitive advantage to the cellulose over-producer, bacterial cellulose confers UV \n",
      "      protection, ensures maintenance of an aerobic environment, retains moisture, \n",
      "      protects against heavy metal stress, etc. This unique nanostructured matrix is being \n",
      "      widely explored for various medical and nonmedical applications. It can be produced \n",
      "      in various shapes and forms because of which it finds varied uses in biomedicine. \n",
      "      The attributes of bacterial cellulose such as biocompatibility, haemocompatibility, \n",
      "      mechanical strength, microporosity and biodegradability with its unique surface \n",
      "      chemistry make it ideally suited for a plethora of biomedical applications. This \n",
      "      review highlights these qualities of bacterial cellulose in detail with emphasis on \n",
      "      reports that prove its utility in biomedicine. It also gives an in-depth account of \n",
      "      various biomedical applications ranging from implants and scaffolds for tissue \n",
      "      engineering, carriers for drug delivery, wound-dressing materials, etc. that are \n",
      "      reported until date. Besides, perspectives on limitations of commercialisation of \n",
      "      bacterial cellulose have been presented. This review is also an update on the \n",
      "      variety of low-cost substrates used for production of bacterial cellulose and its \n",
      "      nonmedical applications and includes patents and commercial products based on \n",
      "      bacterial cellulose.\n",
      "FAU - Rajwade, J M\n",
      "AU  - Rajwade JM\n",
      "AD  - Centre for Nanobioscience, Agharkar Research Institute,\n"
     ]
    }
   ],
   "source": [
    "print(my_text[:2000])"
   ]
  },
  {
   "cell_type": "code",
   "execution_count": 59,
   "id": "51c7d413",
   "metadata": {
    "scrolled": true
   },
   "outputs": [
    {
     "name": "stdout",
     "output_type": "stream",
     "text": [
      "tations of commercialisation of  bacterial cellulose have been presented. This review is also an update on the  variety of low-cost substrates used for production of bacterial cellulose and its  nonmedical applications and includes patents and commercial products based on  bacterial cellulose.\n",
      "FAU - Rajwade, J M\n",
      "AU  - Rajwade JM\n",
      "AD  - Centre for Nanobioscience, Agharkar Research Institute, G. G. Agarkar Road, Pune,  411 004, India, jrajwade@aripune.org.\n",
      "FAU - Paknikar, K M\n",
      "AU  - Paknikar KM\n",
      "FAU - Kumbhar, J V\n",
      "AU  - Kumbhar JV\n",
      "LA  - eng\n",
      "PT  - Journal Article\n",
      "PT  - Review\n",
      "DEP - 20150211\n",
      "PL  - Germany\n",
      "TA  - Appl Microbiol Biotechnol\n",
      "JT  - Applied microbiology and biotechnology\n",
      "JID - 8406612\n",
      "RN  - 0 (Biocompatible Materials)\n",
      "RN  - 9004-34-6 (Cellulose)\n",
      "SB  - IM\n",
      "MH  - Biocompatible Materials/chemistry\n",
      "MH  - Biodegradation, Environmental\n",
      "MH  - Cellulose/*chemistry\n",
      "MH  - Drug Delivery Systems\n",
      "MH  - Fermentation\n",
      "MH  - Gluconacetobacter/*chemistry\n",
      "MH  - Nanocomposites/chemistry\n",
      "MH  - Prostheses\n"
     ]
    }
   ],
   "source": [
    "my_text=re.sub(r'\\n\\s{6}', ' ', my_text)\n",
    "print(my_text[1500:2500])"
   ]
  },
  {
   "cell_type": "code",
   "execution_count": 61,
   "id": "f0561d75-0059-4df9-9b53-1066cb064618",
   "metadata": {},
   "outputs": [],
   "source": [
    "#patron= r'\\d{3,},\\s([a-zA-z]{3,})'\n",
    "patron1= r\"\\,\\s([A-Z]+[A-z]{2,11})\\.\"\n",
    "paises= re.findall(patron1, my_text)"
   ]
  },
  {
   "cell_type": "code",
   "execution_count": 62,
   "id": "098c2b6e",
   "metadata": {},
   "outputs": [
    {
     "name": "stdout",
     "output_type": "stream",
     "text": [
      "['Canada', 'China', 'China', 'China', 'China', 'China', 'China', 'Greece', 'Portugal', 'Greece']\n"
     ]
    }
   ],
   "source": [
    "print(paises[:10])"
   ]
  },
  {
   "cell_type": "code",
   "execution_count": 63,
   "id": "a578238b-8e08-4420-a7a1-16fe5f63bd87",
   "metadata": {},
   "outputs": [
    {
     "data": {
      "text/plain": [
       "831"
      ]
     },
     "execution_count": 63,
     "metadata": {},
     "output_type": "execute_result"
    }
   ],
   "source": [
    "len(paises)"
   ]
  },
  {
   "cell_type": "code",
   "execution_count": 64,
   "id": "3b0e2416-ad0d-4d71-a3cb-8514a2d43bbf",
   "metadata": {},
   "outputs": [
    {
     "name": "stdout",
     "output_type": "stream",
     "text": [
      "['Canada', 'China', 'China', 'China', 'China', 'China', 'China', 'Greece', 'Portugal', 'Greece', 'Greece', 'Greece', 'Greece', 'Greece', 'Portugal', 'Greece', 'China', 'China', 'China', 'China', 'China', 'China', 'China', 'USA', 'Brazil', 'Brazil', 'Brazil', 'Brazil', 'Brazil', 'Brazil']\n"
     ]
    }
   ],
   "source": [
    "print(paises[:30])"
   ]
  },
  {
   "cell_type": "code",
   "execution_count": 65,
   "id": "8dd69106-11a0-4b11-8458-a2eeafbbea45",
   "metadata": {},
   "outputs": [],
   "source": [
    "paises_unicos = list(set(paises))"
   ]
  },
  {
   "cell_type": "code",
   "execution_count": 66,
   "id": "21ce258b-90e6-49ff-aad1-27dcb4b2a423",
   "metadata": {},
   "outputs": [],
   "source": [
    "paises_unicos.sort()"
   ]
  },
  {
   "cell_type": "code",
   "execution_count": 67,
   "id": "edd38b55-b141-4599-a050-d67bdec60f27",
   "metadata": {},
   "outputs": [
    {
     "name": "stdout",
     "output_type": "stream",
     "text": [
      "['Algeria', 'Appl', 'Argentina', 'Australia', 'Austria', 'Bangladesh', 'Basel', 'Beijing', 'Belgium', 'Blvd', 'Brazil', 'Canada', 'Chile', 'China', 'Ctra', 'Cuba', 'Denmark', 'Egypt', 'Finland', 'France', 'Germany', 'Greece', 'Guizhou', 'Hungary', 'Inc', 'India', 'Indonesia', 'Iran', 'Ireland', 'Israel', 'Italy', 'Japan', 'Kasernenstr', 'Kgs', 'Libya', 'Lithuania', 'Ltd', 'Malaysia', 'Mexico', 'Netherlands', 'Norway', 'Ont', 'Pad', 'Pakistan', 'Poland', 'Portugal', 'Qro', 'Russia', 'Sekr', 'Slovakia', 'Spain', 'Sta', 'Sweden', 'Switzerland', 'Taiwan', 'Thailand', 'Tunisia', 'Turkey', 'USA', 'Weinheim']\n"
     ]
    }
   ],
   "source": [
    "print(paises_unicos)"
   ]
  },
  {
   "cell_type": "code",
   "execution_count": 68,
   "id": "108a298b-4f8f-4a09-8159-72dd8c7441ba",
   "metadata": {},
   "outputs": [],
   "source": [
    "paises_unicos.remove(\"Appl\")\n",
    "paises_unicos.remove(\"Basel\")\n",
    "paises_unicos.remove(\"Beijing\")\n",
    "paises_unicos.remove(\"Blvd\")\n",
    "paises_unicos.remove(\"Ctra\")\n",
    "paises_unicos.remove(\"Guizhou\")\n",
    "paises_unicos.remove(\"Inc\")\n",
    "paises_unicos.remove(\"Kasernenstr\")\n",
    "paises_unicos.remove(\"Kgs\")\n",
    "paises_unicos.remove(\"Ltd\")\n",
    "paises_unicos.remove(\"Ont\")\n",
    "paises_unicos.remove(\"Pad\")\n",
    "paises_unicos.remove(\"Qro\")\n",
    "paises_unicos.remove(\"Sekr\")\n",
    "paises_unicos.remove(\"Sta\")\n",
    "paises_unicos.remove(\"Weinheim\")"
   ]
  },
  {
   "cell_type": "code",
   "execution_count": 69,
   "id": "ea53a7d3-6686-49f2-8610-febdbd8a14fd",
   "metadata": {},
   "outputs": [
    {
     "name": "stdout",
     "output_type": "stream",
     "text": [
      "['Algeria', 'Argentina', 'Australia', 'Austria', 'Bangladesh', 'Belgium', 'Brazil', 'Canada', 'Chile', 'China', 'Cuba', 'Denmark', 'Egypt', 'Finland', 'France', 'Germany', 'Greece', 'Hungary', 'India', 'Indonesia', 'Iran', 'Ireland', 'Israel', 'Italy', 'Japan', 'Libya', 'Lithuania', 'Malaysia', 'Mexico', 'Netherlands', 'Norway', 'Pakistan', 'Poland', 'Portugal', 'Russia', 'Slovakia', 'Spain', 'Sweden', 'Switzerland', 'Taiwan', 'Thailand', 'Tunisia', 'Turkey', 'USA']\n"
     ]
    }
   ],
   "source": [
    "print(paises_unicos)"
   ]
  },
  {
   "cell_type": "code",
   "execution_count": 70,
   "id": "6ef74230-d98a-4947-bd20-60c371b57699",
   "metadata": {},
   "outputs": [
    {
     "data": {
      "text/plain": [
       "44"
      ]
     },
     "execution_count": 70,
     "metadata": {},
     "output_type": "execute_result"
    }
   ],
   "source": [
    "len(paises_unicos)"
   ]
  },
  {
   "cell_type": "code",
   "execution_count": 71,
   "id": "c1f348c6-ede2-4fa8-80d7-8b45a2a7ee59",
   "metadata": {},
   "outputs": [],
   "source": [
    "# Se usa la libreria pandas para documentos de excel\n",
    "import pandas as pd "
   ]
  },
  {
   "cell_type": "code",
   "execution_count": 72,
   "id": "845ab48d-898b-47b9-af71-5ac18d689ab5",
   "metadata": {},
   "outputs": [
    {
     "data": {
      "text/html": [
       "<div>\n",
       "<style scoped>\n",
       "    .dataframe tbody tr th:only-of-type {\n",
       "        vertical-align: middle;\n",
       "    }\n",
       "\n",
       "    .dataframe tbody tr th {\n",
       "        vertical-align: top;\n",
       "    }\n",
       "\n",
       "    .dataframe thead th {\n",
       "        text-align: right;\n",
       "    }\n",
       "</style>\n",
       "<table border=\"1\" class=\"dataframe\">\n",
       "  <thead>\n",
       "    <tr style=\"text-align: right;\">\n",
       "      <th></th>\n",
       "      <th>country</th>\n",
       "      <th>latitude</th>\n",
       "      <th>longitude</th>\n",
       "      <th>name</th>\n",
       "    </tr>\n",
       "  </thead>\n",
       "  <tbody>\n",
       "    <tr>\n",
       "      <th>0</th>\n",
       "      <td>AD</td>\n",
       "      <td>42.546245</td>\n",
       "      <td>1.601554</td>\n",
       "      <td>Andorra</td>\n",
       "    </tr>\n",
       "    <tr>\n",
       "      <th>1</th>\n",
       "      <td>AE</td>\n",
       "      <td>23.424076</td>\n",
       "      <td>53.847818</td>\n",
       "      <td>United Arab Emirates</td>\n",
       "    </tr>\n",
       "    <tr>\n",
       "      <th>2</th>\n",
       "      <td>AF</td>\n",
       "      <td>33.939110</td>\n",
       "      <td>67.709953</td>\n",
       "      <td>Afghanistan</td>\n",
       "    </tr>\n",
       "    <tr>\n",
       "      <th>3</th>\n",
       "      <td>AG</td>\n",
       "      <td>17.060816</td>\n",
       "      <td>-61.796428</td>\n",
       "      <td>Antigua and Barbuda</td>\n",
       "    </tr>\n",
       "    <tr>\n",
       "      <th>4</th>\n",
       "      <td>AI</td>\n",
       "      <td>18.220554</td>\n",
       "      <td>-63.068615</td>\n",
       "      <td>Anguilla</td>\n",
       "    </tr>\n",
       "    <tr>\n",
       "      <th>5</th>\n",
       "      <td>AL</td>\n",
       "      <td>41.153332</td>\n",
       "      <td>20.168331</td>\n",
       "      <td>Albania</td>\n",
       "    </tr>\n",
       "    <tr>\n",
       "      <th>6</th>\n",
       "      <td>AM</td>\n",
       "      <td>40.069099</td>\n",
       "      <td>45.038189</td>\n",
       "      <td>Armenia</td>\n",
       "    </tr>\n",
       "    <tr>\n",
       "      <th>7</th>\n",
       "      <td>AN</td>\n",
       "      <td>12.226079</td>\n",
       "      <td>-69.060087</td>\n",
       "      <td>Netherlands Antilles</td>\n",
       "    </tr>\n",
       "    <tr>\n",
       "      <th>8</th>\n",
       "      <td>AO</td>\n",
       "      <td>-11.202692</td>\n",
       "      <td>17.873887</td>\n",
       "      <td>Angola</td>\n",
       "    </tr>\n",
       "    <tr>\n",
       "      <th>9</th>\n",
       "      <td>AQ</td>\n",
       "      <td>-75.250973</td>\n",
       "      <td>-0.071389</td>\n",
       "      <td>Antarctica</td>\n",
       "    </tr>\n",
       "  </tbody>\n",
       "</table>\n",
       "</div>"
      ],
      "text/plain": [
       "  country   latitude  longitude                  name\n",
       "0      AD  42.546245   1.601554               Andorra\n",
       "1      AE  23.424076  53.847818  United Arab Emirates\n",
       "2      AF  33.939110  67.709953           Afghanistan\n",
       "3      AG  17.060816 -61.796428   Antigua and Barbuda\n",
       "4      AI  18.220554 -63.068615              Anguilla\n",
       "5      AL  41.153332  20.168331               Albania\n",
       "6      AM  40.069099  45.038189               Armenia\n",
       "7      AN  12.226079 -69.060087  Netherlands Antilles\n",
       "8      AO -11.202692  17.873887                Angola\n",
       "9      AQ -75.250973  -0.071389            Antarctica"
      ]
     },
     "execution_count": 72,
     "metadata": {},
     "output_type": "execute_result"
    }
   ],
   "source": [
    "# Se importa la tabla\n",
    "data = pd.read_csv('./Ubicacion.csv', engine='python', skipfooter=3)\n",
    "data.head(10)"
   ]
  },
  {
   "cell_type": "code",
   "execution_count": 73,
   "id": "8ad1c8f1-7078-45b3-a247-afaf15c5e5ff",
   "metadata": {},
   "outputs": [
    {
     "data": {
      "text/html": [
       "<div>\n",
       "<style scoped>\n",
       "    .dataframe tbody tr th:only-of-type {\n",
       "        vertical-align: middle;\n",
       "    }\n",
       "\n",
       "    .dataframe tbody tr th {\n",
       "        vertical-align: top;\n",
       "    }\n",
       "\n",
       "    .dataframe thead th {\n",
       "        text-align: right;\n",
       "    }\n",
       "</style>\n",
       "<table border=\"1\" class=\"dataframe\">\n",
       "  <thead>\n",
       "    <tr style=\"text-align: right;\">\n",
       "      <th></th>\n",
       "      <th>country</th>\n",
       "      <th>latitude</th>\n",
       "      <th>longitude</th>\n",
       "      <th>name</th>\n",
       "    </tr>\n",
       "  </thead>\n",
       "  <tbody>\n",
       "    <tr>\n",
       "      <th>58</th>\n",
       "      <td>DZ</td>\n",
       "      <td>28.033886</td>\n",
       "      <td>1.659626</td>\n",
       "      <td>Algeria</td>\n",
       "    </tr>\n",
       "    <tr>\n",
       "      <th>10</th>\n",
       "      <td>AR</td>\n",
       "      <td>-38.416097</td>\n",
       "      <td>-63.616672</td>\n",
       "      <td>Argentina</td>\n",
       "    </tr>\n",
       "    <tr>\n",
       "      <th>13</th>\n",
       "      <td>AU</td>\n",
       "      <td>-25.274398</td>\n",
       "      <td>133.775136</td>\n",
       "      <td>Australia</td>\n",
       "    </tr>\n",
       "    <tr>\n",
       "      <th>12</th>\n",
       "      <td>AT</td>\n",
       "      <td>47.516231</td>\n",
       "      <td>14.550072</td>\n",
       "      <td>Austria</td>\n",
       "    </tr>\n",
       "    <tr>\n",
       "      <th>18</th>\n",
       "      <td>BD</td>\n",
       "      <td>23.684994</td>\n",
       "      <td>90.356331</td>\n",
       "      <td>Bangladesh</td>\n",
       "    </tr>\n",
       "    <tr>\n",
       "      <th>19</th>\n",
       "      <td>BE</td>\n",
       "      <td>50.503887</td>\n",
       "      <td>4.469936</td>\n",
       "      <td>Belgium</td>\n",
       "    </tr>\n",
       "    <tr>\n",
       "      <th>28</th>\n",
       "      <td>BR</td>\n",
       "      <td>-14.235004</td>\n",
       "      <td>-51.925280</td>\n",
       "      <td>Brazil</td>\n",
       "    </tr>\n",
       "    <tr>\n",
       "      <th>35</th>\n",
       "      <td>CA</td>\n",
       "      <td>56.130366</td>\n",
       "      <td>-106.346771</td>\n",
       "      <td>Canada</td>\n",
       "    </tr>\n",
       "    <tr>\n",
       "      <th>43</th>\n",
       "      <td>CL</td>\n",
       "      <td>-35.675147</td>\n",
       "      <td>-71.542969</td>\n",
       "      <td>Chile</td>\n",
       "    </tr>\n",
       "    <tr>\n",
       "      <th>45</th>\n",
       "      <td>CN</td>\n",
       "      <td>35.861660</td>\n",
       "      <td>104.195397</td>\n",
       "      <td>China</td>\n",
       "    </tr>\n",
       "  </tbody>\n",
       "</table>\n",
       "</div>"
      ],
      "text/plain": [
       "   country   latitude   longitude        name\n",
       "58      DZ  28.033886    1.659626     Algeria\n",
       "10      AR -38.416097  -63.616672   Argentina\n",
       "13      AU -25.274398  133.775136   Australia\n",
       "12      AT  47.516231   14.550072     Austria\n",
       "18      BD  23.684994   90.356331  Bangladesh\n",
       "19      BE  50.503887    4.469936     Belgium\n",
       "28      BR -14.235004  -51.925280      Brazil\n",
       "35      CA  56.130366 -106.346771      Canada\n",
       "43      CL -35.675147  -71.542969       Chile\n",
       "45      CN  35.861660  104.195397       China"
      ]
     },
     "execution_count": 73,
     "metadata": {},
     "output_type": "execute_result"
    }
   ],
   "source": [
    "# Datos de para el grafico:\n",
    "\n",
    "datos_nombre = data[data.name.isin(paises_unicos)]\n",
    "datos_paises = data[data.country.isin(paises_unicos)]\n",
    "all_datos =pd.concat([datos_nombre,datos_paises]).drop_duplicates().sort_values('name')\n",
    "all_datos.head(10)"
   ]
  },
  {
   "cell_type": "code",
   "execution_count": 76,
   "id": "06112da0-3ad7-4471-91da-338e0eb2b547",
   "metadata": {},
   "outputs": [
    {
     "data": {
      "image/png": "[encoded data removed]",
      "text/plain": [
       "<Figure size 1296x864 with 2 Axes>"
      ]
     },
     "metadata": {
      "needs_background": "light"
     },
     "output_type": "display_data"
    }
   ],
   "source": [
    "# Se grafica\n",
    "\n",
    "import matplotlib.pyplot as plt\n",
    "plt.scatter(all_datos.longitude, all_datos.latitude, s=50, c=all_datos.latitude)\n",
    "plt.colorbar()\n",
    "\n",
    "plt.annotate('USA', xy = (-95.712891, 37.09024), \n",
    "               xytext = (-95.712891, 40), arrowprops = ard)\n",
    "plt.annotate('UKRAINE', xy = (31.16558,48.379433), \n",
    "               xytext = (31.16558,51), arrowprops= ard)\n",
    "plt.annotate('BRAZIL', xy = (-51.92528, -14.235004), \n",
    "               xytext = (-51.92528, -11), arrowprops= ard)\n",
    "plt.annotate('CHINA', xy = (104.195397, 35.86166), \n",
    "               xytext = (104.195397, 39), arrowprops= ard)\n",
    "plt.annotate('AUSTRALIA', xy = (133.775136, -25.274398), \n",
    "               xytext = (133.775136, -22), arrowprops= ard)\n",
    "plt.annotate('NORWAY', xy = (8.468946, 60.472024), \n",
    "               xytext = (8.468946, 63), arrowprops= ard)\n",
    "\n",
    "params = plt.gcf()\n",
    "plSize = params.get_size_inches()\n",
    "params.set_size_inches( (plSize[0] * 3, plSize[1] * 3) )\n",
    "\n",
    "# GRAFICAMOS TODOS LOS RESULTADOS RESALTANDO: USA UK BRASIL CHINA AUSTRALIA NORWAY"
   ]
  },
  {
   "cell_type": "code",
   "execution_count": 145,
   "id": "43083a39-3aab-43d4-a1a9-fbe04119c97b",
   "metadata": {},
   "outputs": [],
   "source": [
    "#paises_coordenadas= {}\n",
    "#with open('./paises_coordenadas.txt') as f:\n",
    "#    csvr= csv.DictReader(f)\n",
    "#    for row in csvr:\n",
    "#        paises_coordenadas[row['PAIS']]= [float(row['LAT']), \n",
    "                                          float(row['LNG'])]"
   ]
  },
  {
   "cell_type": "code",
   "execution_count": 146,
   "id": "9ae54ace-7c15-44a3-9a89-cc48661b4806",
   "metadata": {},
   "outputs": [],
   "source": [
    "#pais_code = []\n",
    "#pais_long = []\n",
    "#pais_lat = []\n",
    "#pais_count = []"
   ]
  },
  {
   "cell_type": "code",
   "execution_count": 147,
   "id": "4f0d18d4-f810-4bd9-8b39-c83b33b9356b",
   "metadata": {},
   "outputs": [],
   "source": [
    "#for p in paises_unicos:\n",
    "#    if p in paises_coordenadas.keys():\n",
    "#        pais_code.append(p)\n",
    "#        pais_lat.append(paises_coordenadas[p][0])\n",
    "#        pais_long.append(paises_coordenadas[p][1])\n",
    "#        pais_count.append(paises.count(p))"
   ]
  },
  {
   "cell_type": "code",
   "execution_count": 148,
   "id": "202dc20f-c66f-4ae1-ad2d-595d961e1859",
   "metadata": {},
   "outputs": [
    {
     "data": {
      "image/png": "[encoded data removed]",
      "text/plain": [
       "<Figure size 1296x864 with 2 Axes>"
      ]
     },
     "metadata": {
      "needs_background": "light"
     },
     "output_type": "display_data"
    }
   ],
   "source": [
    "#import matplotlib.pyplot as plt\n",
    "#%matplotlib inline\n",
    "#plt.scatter(pais_long, pais_lat, s = pais_count, c= pais_count)\n",
    "#plt.colorbar()\n",
    "\n",
    "# only continental us without Alaska\n",
    "#plt.xlim(-125,-65)\n",
    "#plt.ylim(23, 50)\n",
    "# add a few cities for reference (optional)\n",
    "\n",
    "#ard = dict(arrowstyle=\"->\")\n",
    "#plt.annotate('India', xy = (20.593684, 78.96288), \n",
    "               xytext = (20.593684, 78.96288), arrowprops = ard)\n",
    "#plt.annotate('China', xy = (35.86166, 104.195397), \n",
    "               xytext = (35.86166, 104.195397), arrowprops= ard)\n",
    "#plt.annotate('Greece', xy = (39.074208, 21.824312), \n",
    "               xytext = (39.074208, 21.824312), arrowprops= ard)\n",
    "#plt.annotate('Brazil', xy = (-14.235004, -51.92528), \n",
    "               xytext = (-14.235004, -51.92528), arrowprops= ard)\n",
    "#plt.annotate('Portugal', xy = (39.399872, -8.224454), \n",
    "               xytext = (39.399872, -8.224454), arrowprops= ard)\n",
    "#plt.annotate('Thailand', xy = (15.870032, 100.992541), \n",
    "               xytext = (15.870032, 100.992541), arrowprops= ard)\n",
    "#params = plt.gcf()\n",
    "#plSize = params.get_size_inches()\n",
    "#params.set_size_inches( (plSize[0] * 3, plSize[1] * 3) )\n",
    "#plt.show()"
   ]
  }
 ],
 "metadata": {
  "kernelspec": {
   "display_name": "Python 3 (ipykernel)",
   "language": "python",
   "name": "python3"
  },
  "language_info": {
   "codemirror_mode": {
    "name": "ipython",
    "version": 3
   },
   "file_extension": ".py",
   "mimetype": "text/x-python",
   "name": "python",
   "nbconvert_exporter": "python",
   "pygments_lexer": "ipython3",
   "version": "3.9.7"
  }
 },
 "nbformat": 4,
 "nbformat_minor": 5
}
